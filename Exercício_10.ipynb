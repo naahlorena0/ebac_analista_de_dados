{
  "nbformat": 4,
  "nbformat_minor": 0,
  "metadata": {
    "colab": {
      "provenance": []
    },
    "kernelspec": {
      "name": "python3",
      "display_name": "Python 3"
    }
  },
  "cells": [
    {
      "cell_type": "markdown",
      "metadata": {
        "id": "GABI6OW8OfQ2"
      },
      "source": [
        "# **Exercícios**"
      ]
    },
    {
      "cell_type": "markdown",
      "metadata": {
        "id": "muD1vxozykSC"
      },
      "source": [
        "## 0\\. Preparando o ambiente"
      ]
    },
    {
      "cell_type": "markdown",
      "metadata": {
        "id": "ByX7SUjNKk2K"
      },
      "source": [
        "Vamos explorar dados de crédito presentes no arquivo `credito.xlsx` ([link](https://raw.githubusercontent.com/andre-marcos-perez/ebac-course-utils/develop/dataset/credito.xlsx)). Os dados estão no formato de **Excel** (XLSX) e contém informações sobre clientes de uma instituição financeira. Em especial, estamos interessados em explicar a segunda coluna, chamada de **default**, que indica se um cliente é adimplente (`default = 0`), ou inadimplente (`default = 1`), ou seja, queremos entender o porque um cliente deixa de honrar com suas dívidas baseado no comportamento de outros atributos, como salário, escolaridade e movimentação financeira. Uma descrição completa dos atributos está abaixo."
      ]
    },
    {
      "cell_type": "markdown",
      "metadata": {
        "id": "Z5Fd0NSVLnwE"
      },
      "source": [
        "\n",
        "\n",
        "| Coluna  | Descrição |\n",
        "| ------- | --------- |\n",
        "| id      | Número da conta |\n",
        "| default | Indica se o cliente é adimplente (0) ou inadimplente (1) |\n",
        "| idade   | --- |\n",
        "| sexo    | --- |\n",
        "| depedentes | --- |\n",
        "| escolaridade | --- |\n",
        "| estado_civil | --- |\n",
        "| salario_anual | Faixa do salario mensal multiplicado por 12 |\n",
        "| tipo_cartao | Categoria do cartao: blue, silver, gold e platinium |\n",
        "| meses_de_relacionamento | Quantidade de meses desde a abertura da conta |\n",
        "| qtd_produtos | Quantidade de produtos contratados |\n",
        "| iteracoes_12m | Quantidade de iteracoes com o cliente no último ano |\n",
        "| meses_inatico_12m | Quantidade de meses que o cliente ficou inativo no último ano |\n",
        "| limite_credito | Valor do limite do cartão de crédito |\n",
        "| valor_transacoes_12m | Soma total do valor das transações no cartão de crédito no último ano |\n",
        "| qtd_transacoes_12m | Quantidade total de transações no cartão de crédito no último ano |\n",
        "\n"
      ]
    },
    {
      "cell_type": "markdown",
      "metadata": {
        "id": "peEbZE2vcMaH"
      },
      "source": [
        "Faça o download do arquivo `credito.xlsx` com a célula de código abaixo."
      ]
    },
    {
      "cell_type": "code",
      "metadata": {
        "id": "hyG8xFuWc16L",
        "outputId": "0fe0cb80-db5e-4f5f-be43-3f32f20579cd",
        "colab": {
          "base_uri": "https://localhost:8080/"
        }
      },
      "source": [
        "!wget --show-progress --continue -O ./credito.xlsx https://raw.githubusercontent.com/andre-marcos-perez/ebac-course-utils/main/dataset/credito.xlsx"
      ],
      "execution_count": 1,
      "outputs": [
        {
          "output_type": "stream",
          "name": "stdout",
          "text": [
            "--2024-02-27 22:04:20--  https://raw.githubusercontent.com/andre-marcos-perez/ebac-course-utils/main/dataset/credito.xlsx\n",
            "Resolving raw.githubusercontent.com (raw.githubusercontent.com)... 185.199.108.133, 185.199.109.133, 185.199.110.133, ...\n",
            "Connecting to raw.githubusercontent.com (raw.githubusercontent.com)|185.199.108.133|:443... connected.\n",
            "HTTP request sent, awaiting response... 200 OK\n",
            "Length: 748185 (731K) [application/octet-stream]\n",
            "Saving to: ‘./credito.xlsx’\n",
            "\n",
            "./credito.xlsx      100%[===================>] 730.65K  --.-KB/s    in 0.06s   \n",
            "\n",
            "2024-02-27 22:04:20 (12.6 MB/s) - ‘./credito.xlsx’ saved [748185/748185]\n",
            "\n"
          ]
        }
      ]
    },
    {
      "cell_type": "markdown",
      "metadata": {
        "id": "zMN1Q3jdwoJm"
      },
      "source": [
        "---"
      ]
    },
    {
      "cell_type": "markdown",
      "metadata": {
        "id": "GWgNoJN8DHyY"
      },
      "source": [
        "## 1\\. Excel para CSV"
      ]
    },
    {
      "cell_type": "markdown",
      "metadata": {
        "id": "YynK1vf2DHyj"
      },
      "source": [
        "Utilizando o pacote Python `openpyxl` visto em aula, extraia os seguintes as colunas `id`, `sexo` e `idade` para dos clientes inadimplentes (`default = 1`) e solteiros (`estado_civil = 'solteiro'`). Salves os dados extraídos no arquivo csv `credito.csv` separado por `;`. Exemplo do cabeçalho e das três primeiras linhas:\n",
        "\n",
        "```\n",
        "id;sexo;idade\n",
        "767712558;59;M\n",
        "713741358;46;M\n",
        "772390908;59;M\n",
        "```\n",
        "\n",
        "**Dica:** O arquivo csv `credito.csv` deve ter 669 linhas, contando com o cabeçalho.\n",
        "\n",
        "**Nota:** Escreva o código da sua solução abaixo em uma ou mais células, você não precisa enviar o arquivo csv gerado."
      ]
    },
    {
      "cell_type": "code",
      "metadata": {
        "id": "hVK8QyFvE-wk",
        "colab": {
          "base_uri": "https://localhost:8080/"
        },
        "outputId": "6e49cad4-8886-4cfc-f7db-dc5e2f894e44"
      },
      "source": [
        "# solução do exercício 1\n",
        "!pip install openpyxl"
      ],
      "execution_count": 2,
      "outputs": [
        {
          "output_type": "stream",
          "name": "stdout",
          "text": [
            "Requirement already satisfied: openpyxl in /usr/local/lib/python3.10/dist-packages (3.1.2)\n",
            "Requirement already satisfied: et-xmlfile in /usr/local/lib/python3.10/dist-packages (from openpyxl) (1.1.0)\n"
          ]
        }
      ]
    },
    {
      "cell_type": "code",
      "source": [
        "import openpyxl\n",
        "import csv\n",
        "import pandas as pd\n",
        "\n",
        "planilhas = openpyxl.load_workbook(\"credito.xlsx\") # abrir a planilha\n",
        "planilha = planilhas.active # ativar a planilha\n",
        "colunas = csv.writer(open(\"credito.csv\", 'w')) #csv.writer(para escrever um arqv.csv)\n",
        "                                                           # w indica escrita\n",
        "\n",
        "for linha in planilha.rows: # define um loop que percorre cada objeto de linha na planilha, um de cada vez.\n",
        "  colunas.writerow([cell.value for cell in linha]) # cada valor é extraído de uma célula na linha atual.\n",
        "\n",
        "# biblioteca Pandas (pd) para ler o arq CSV e passa lo para um DataFrame\n",
        "df = pd.DataFrame(pd.read_csv(\"credito.csv\")) # pd.DataF é uma função da biblioteca Pandas que cria um novo DataFrame a partir dos dados fornecidos como argumento.\n",
        "                                              # lê o arquivo CSV e retorna um DataFrame com os dados\n",
        "df_filtrado = df.loc[df['default']==1][df['estado_civil']=='solteiro'] # está sendo filtrado para incluir apenas as linhas onde a coluna 'default' tem valor igual a 1 E a coluna 'estado_civil' tem valor igual a 'solteiro'.\n",
        "df_selecao = df_filtrado[['id','sexo','idade']] # está sendo criado um novo dataframe chamado \"df_selecao\" que contém apenas as colunas \"id\", \"sexo\" e \"idade\" do dataframe original\n",
        "df_selecao.reset_index(drop=True) # redefinindo o índice do DataFrame (df_selecao) e descartaria o índice anterior, substituindo-o por um novo índice sequencial a partir de 0. O parâmetro drop=True é usado para descartar o índice anterior.\n",
        "\n"
      ],
      "metadata": {
        "colab": {
          "base_uri": "https://localhost:8080/",
          "height": 478
        },
        "id": "x5VIVPP6CT64",
        "outputId": "d71752e3-d3a4-4c3f-a4c3-464c0e204356"
      },
      "execution_count": 3,
      "outputs": [
        {
          "output_type": "stream",
          "name": "stderr",
          "text": [
            "<ipython-input-3-55917d7a58b7>:16: UserWarning: Boolean Series key will be reindexed to match DataFrame index.\n",
            "  df_filtrado = df.loc[df['default']==1][df['estado_civil']=='solteiro'] # está sendo filtrado para incluir apenas as linhas onde a coluna 'default' tem valor igual a 1 E a coluna 'estado_civil' tem valor igual a 'solteiro'.\n"
          ]
        },
        {
          "output_type": "execute_result",
          "data": {
            "text/plain": [
              "            id sexo  idade\n",
              "0    767712558    M     59\n",
              "1    713741358    M     46\n",
              "2    772390908    M     59\n",
              "3    719211558    M     45\n",
              "4    709547658    M     39\n",
              "..         ...  ...    ...\n",
              "663  710066133    M     30\n",
              "664  713281833    M     37\n",
              "665  716644008    M     55\n",
              "666  713924283    M     61\n",
              "667  716893683    F     55\n",
              "\n",
              "[668 rows x 3 columns]"
            ],
            "text/html": [
              "\n",
              "  <div id=\"df-50254712-617c-4f0c-b6b8-b317767772d5\" class=\"colab-df-container\">\n",
              "    <div>\n",
              "<style scoped>\n",
              "    .dataframe tbody tr th:only-of-type {\n",
              "        vertical-align: middle;\n",
              "    }\n",
              "\n",
              "    .dataframe tbody tr th {\n",
              "        vertical-align: top;\n",
              "    }\n",
              "\n",
              "    .dataframe thead th {\n",
              "        text-align: right;\n",
              "    }\n",
              "</style>\n",
              "<table border=\"1\" class=\"dataframe\">\n",
              "  <thead>\n",
              "    <tr style=\"text-align: right;\">\n",
              "      <th></th>\n",
              "      <th>id</th>\n",
              "      <th>sexo</th>\n",
              "      <th>idade</th>\n",
              "    </tr>\n",
              "  </thead>\n",
              "  <tbody>\n",
              "    <tr>\n",
              "      <th>0</th>\n",
              "      <td>767712558</td>\n",
              "      <td>M</td>\n",
              "      <td>59</td>\n",
              "    </tr>\n",
              "    <tr>\n",
              "      <th>1</th>\n",
              "      <td>713741358</td>\n",
              "      <td>M</td>\n",
              "      <td>46</td>\n",
              "    </tr>\n",
              "    <tr>\n",
              "      <th>2</th>\n",
              "      <td>772390908</td>\n",
              "      <td>M</td>\n",
              "      <td>59</td>\n",
              "    </tr>\n",
              "    <tr>\n",
              "      <th>3</th>\n",
              "      <td>719211558</td>\n",
              "      <td>M</td>\n",
              "      <td>45</td>\n",
              "    </tr>\n",
              "    <tr>\n",
              "      <th>4</th>\n",
              "      <td>709547658</td>\n",
              "      <td>M</td>\n",
              "      <td>39</td>\n",
              "    </tr>\n",
              "    <tr>\n",
              "      <th>...</th>\n",
              "      <td>...</td>\n",
              "      <td>...</td>\n",
              "      <td>...</td>\n",
              "    </tr>\n",
              "    <tr>\n",
              "      <th>663</th>\n",
              "      <td>710066133</td>\n",
              "      <td>M</td>\n",
              "      <td>30</td>\n",
              "    </tr>\n",
              "    <tr>\n",
              "      <th>664</th>\n",
              "      <td>713281833</td>\n",
              "      <td>M</td>\n",
              "      <td>37</td>\n",
              "    </tr>\n",
              "    <tr>\n",
              "      <th>665</th>\n",
              "      <td>716644008</td>\n",
              "      <td>M</td>\n",
              "      <td>55</td>\n",
              "    </tr>\n",
              "    <tr>\n",
              "      <th>666</th>\n",
              "      <td>713924283</td>\n",
              "      <td>M</td>\n",
              "      <td>61</td>\n",
              "    </tr>\n",
              "    <tr>\n",
              "      <th>667</th>\n",
              "      <td>716893683</td>\n",
              "      <td>F</td>\n",
              "      <td>55</td>\n",
              "    </tr>\n",
              "  </tbody>\n",
              "</table>\n",
              "<p>668 rows × 3 columns</p>\n",
              "</div>\n",
              "    <div class=\"colab-df-buttons\">\n",
              "\n",
              "  <div class=\"colab-df-container\">\n",
              "    <button class=\"colab-df-convert\" onclick=\"convertToInteractive('df-50254712-617c-4f0c-b6b8-b317767772d5')\"\n",
              "            title=\"Convert this dataframe to an interactive table.\"\n",
              "            style=\"display:none;\">\n",
              "\n",
              "  <svg xmlns=\"http://www.w3.org/2000/svg\" height=\"24px\" viewBox=\"0 -960 960 960\">\n",
              "    <path d=\"M120-120v-720h720v720H120Zm60-500h600v-160H180v160Zm220 220h160v-160H400v160Zm0 220h160v-160H400v160ZM180-400h160v-160H180v160Zm440 0h160v-160H620v160ZM180-180h160v-160H180v160Zm440 0h160v-160H620v160Z\"/>\n",
              "  </svg>\n",
              "    </button>\n",
              "\n",
              "  <style>\n",
              "    .colab-df-container {\n",
              "      display:flex;\n",
              "      gap: 12px;\n",
              "    }\n",
              "\n",
              "    .colab-df-convert {\n",
              "      background-color: #E8F0FE;\n",
              "      border: none;\n",
              "      border-radius: 50%;\n",
              "      cursor: pointer;\n",
              "      display: none;\n",
              "      fill: #1967D2;\n",
              "      height: 32px;\n",
              "      padding: 0 0 0 0;\n",
              "      width: 32px;\n",
              "    }\n",
              "\n",
              "    .colab-df-convert:hover {\n",
              "      background-color: #E2EBFA;\n",
              "      box-shadow: 0px 1px 2px rgba(60, 64, 67, 0.3), 0px 1px 3px 1px rgba(60, 64, 67, 0.15);\n",
              "      fill: #174EA6;\n",
              "    }\n",
              "\n",
              "    .colab-df-buttons div {\n",
              "      margin-bottom: 4px;\n",
              "    }\n",
              "\n",
              "    [theme=dark] .colab-df-convert {\n",
              "      background-color: #3B4455;\n",
              "      fill: #D2E3FC;\n",
              "    }\n",
              "\n",
              "    [theme=dark] .colab-df-convert:hover {\n",
              "      background-color: #434B5C;\n",
              "      box-shadow: 0px 1px 3px 1px rgba(0, 0, 0, 0.15);\n",
              "      filter: drop-shadow(0px 1px 2px rgba(0, 0, 0, 0.3));\n",
              "      fill: #FFFFFF;\n",
              "    }\n",
              "  </style>\n",
              "\n",
              "    <script>\n",
              "      const buttonEl =\n",
              "        document.querySelector('#df-50254712-617c-4f0c-b6b8-b317767772d5 button.colab-df-convert');\n",
              "      buttonEl.style.display =\n",
              "        google.colab.kernel.accessAllowed ? 'block' : 'none';\n",
              "\n",
              "      async function convertToInteractive(key) {\n",
              "        const element = document.querySelector('#df-50254712-617c-4f0c-b6b8-b317767772d5');\n",
              "        const dataTable =\n",
              "          await google.colab.kernel.invokeFunction('convertToInteractive',\n",
              "                                                    [key], {});\n",
              "        if (!dataTable) return;\n",
              "\n",
              "        const docLinkHtml = 'Like what you see? Visit the ' +\n",
              "          '<a target=\"_blank\" href=https://colab.research.google.com/notebooks/data_table.ipynb>data table notebook</a>'\n",
              "          + ' to learn more about interactive tables.';\n",
              "        element.innerHTML = '';\n",
              "        dataTable['output_type'] = 'display_data';\n",
              "        await google.colab.output.renderOutput(dataTable, element);\n",
              "        const docLink = document.createElement('div');\n",
              "        docLink.innerHTML = docLinkHtml;\n",
              "        element.appendChild(docLink);\n",
              "      }\n",
              "    </script>\n",
              "  </div>\n",
              "\n",
              "\n",
              "<div id=\"df-131900dd-2cbf-4d6b-bf09-91f232735a74\">\n",
              "  <button class=\"colab-df-quickchart\" onclick=\"quickchart('df-131900dd-2cbf-4d6b-bf09-91f232735a74')\"\n",
              "            title=\"Suggest charts\"\n",
              "            style=\"display:none;\">\n",
              "\n",
              "<svg xmlns=\"http://www.w3.org/2000/svg\" height=\"24px\"viewBox=\"0 0 24 24\"\n",
              "     width=\"24px\">\n",
              "    <g>\n",
              "        <path d=\"M19 3H5c-1.1 0-2 .9-2 2v14c0 1.1.9 2 2 2h14c1.1 0 2-.9 2-2V5c0-1.1-.9-2-2-2zM9 17H7v-7h2v7zm4 0h-2V7h2v10zm4 0h-2v-4h2v4z\"/>\n",
              "    </g>\n",
              "</svg>\n",
              "  </button>\n",
              "\n",
              "<style>\n",
              "  .colab-df-quickchart {\n",
              "      --bg-color: #E8F0FE;\n",
              "      --fill-color: #1967D2;\n",
              "      --hover-bg-color: #E2EBFA;\n",
              "      --hover-fill-color: #174EA6;\n",
              "      --disabled-fill-color: #AAA;\n",
              "      --disabled-bg-color: #DDD;\n",
              "  }\n",
              "\n",
              "  [theme=dark] .colab-df-quickchart {\n",
              "      --bg-color: #3B4455;\n",
              "      --fill-color: #D2E3FC;\n",
              "      --hover-bg-color: #434B5C;\n",
              "      --hover-fill-color: #FFFFFF;\n",
              "      --disabled-bg-color: #3B4455;\n",
              "      --disabled-fill-color: #666;\n",
              "  }\n",
              "\n",
              "  .colab-df-quickchart {\n",
              "    background-color: var(--bg-color);\n",
              "    border: none;\n",
              "    border-radius: 50%;\n",
              "    cursor: pointer;\n",
              "    display: none;\n",
              "    fill: var(--fill-color);\n",
              "    height: 32px;\n",
              "    padding: 0;\n",
              "    width: 32px;\n",
              "  }\n",
              "\n",
              "  .colab-df-quickchart:hover {\n",
              "    background-color: var(--hover-bg-color);\n",
              "    box-shadow: 0 1px 2px rgba(60, 64, 67, 0.3), 0 1px 3px 1px rgba(60, 64, 67, 0.15);\n",
              "    fill: var(--button-hover-fill-color);\n",
              "  }\n",
              "\n",
              "  .colab-df-quickchart-complete:disabled,\n",
              "  .colab-df-quickchart-complete:disabled:hover {\n",
              "    background-color: var(--disabled-bg-color);\n",
              "    fill: var(--disabled-fill-color);\n",
              "    box-shadow: none;\n",
              "  }\n",
              "\n",
              "  .colab-df-spinner {\n",
              "    border: 2px solid var(--fill-color);\n",
              "    border-color: transparent;\n",
              "    border-bottom-color: var(--fill-color);\n",
              "    animation:\n",
              "      spin 1s steps(1) infinite;\n",
              "  }\n",
              "\n",
              "  @keyframes spin {\n",
              "    0% {\n",
              "      border-color: transparent;\n",
              "      border-bottom-color: var(--fill-color);\n",
              "      border-left-color: var(--fill-color);\n",
              "    }\n",
              "    20% {\n",
              "      border-color: transparent;\n",
              "      border-left-color: var(--fill-color);\n",
              "      border-top-color: var(--fill-color);\n",
              "    }\n",
              "    30% {\n",
              "      border-color: transparent;\n",
              "      border-left-color: var(--fill-color);\n",
              "      border-top-color: var(--fill-color);\n",
              "      border-right-color: var(--fill-color);\n",
              "    }\n",
              "    40% {\n",
              "      border-color: transparent;\n",
              "      border-right-color: var(--fill-color);\n",
              "      border-top-color: var(--fill-color);\n",
              "    }\n",
              "    60% {\n",
              "      border-color: transparent;\n",
              "      border-right-color: var(--fill-color);\n",
              "    }\n",
              "    80% {\n",
              "      border-color: transparent;\n",
              "      border-right-color: var(--fill-color);\n",
              "      border-bottom-color: var(--fill-color);\n",
              "    }\n",
              "    90% {\n",
              "      border-color: transparent;\n",
              "      border-bottom-color: var(--fill-color);\n",
              "    }\n",
              "  }\n",
              "</style>\n",
              "\n",
              "  <script>\n",
              "    async function quickchart(key) {\n",
              "      const quickchartButtonEl =\n",
              "        document.querySelector('#' + key + ' button');\n",
              "      quickchartButtonEl.disabled = true;  // To prevent multiple clicks.\n",
              "      quickchartButtonEl.classList.add('colab-df-spinner');\n",
              "      try {\n",
              "        const charts = await google.colab.kernel.invokeFunction(\n",
              "            'suggestCharts', [key], {});\n",
              "      } catch (error) {\n",
              "        console.error('Error during call to suggestCharts:', error);\n",
              "      }\n",
              "      quickchartButtonEl.classList.remove('colab-df-spinner');\n",
              "      quickchartButtonEl.classList.add('colab-df-quickchart-complete');\n",
              "    }\n",
              "    (() => {\n",
              "      let quickchartButtonEl =\n",
              "        document.querySelector('#df-131900dd-2cbf-4d6b-bf09-91f232735a74 button');\n",
              "      quickchartButtonEl.style.display =\n",
              "        google.colab.kernel.accessAllowed ? 'block' : 'none';\n",
              "    })();\n",
              "  </script>\n",
              "</div>\n",
              "\n",
              "    </div>\n",
              "  </div>\n"
            ],
            "application/vnd.google.colaboratory.intrinsic+json": {
              "type": "dataframe",
              "summary": "{\n  \"name\": \"df_selecao\",\n  \"rows\": 668,\n  \"fields\": [\n    {\n      \"column\": \"id\",\n      \"properties\": {\n        \"dtype\": \"number\",\n        \"std\": 35599612,\n        \"min\": 708083283,\n        \"max\": 828291858,\n        \"num_unique_values\": 668,\n        \"samples\": [\n          708726708,\n          715409733,\n          711722808\n        ],\n        \"semantic_type\": \"\",\n        \"description\": \"\"\n      }\n    },\n    {\n      \"column\": \"sexo\",\n      \"properties\": {\n        \"dtype\": \"category\",\n        \"num_unique_values\": 2,\n        \"samples\": [\n          \"F\",\n          \"M\"\n        ],\n        \"semantic_type\": \"\",\n        \"description\": \"\"\n      }\n    },\n    {\n      \"column\": \"idade\",\n      \"properties\": {\n        \"dtype\": \"number\",\n        \"std\": 8,\n        \"min\": 26,\n        \"max\": 65,\n        \"num_unique_values\": 40,\n        \"samples\": [\n          35,\n          54\n        ],\n        \"semantic_type\": \"\",\n        \"description\": \"\"\n      }\n    }\n  ]\n}"
            }
          },
          "metadata": {},
          "execution_count": 3
        }
      ]
    },
    {
      "cell_type": "markdown",
      "metadata": {
        "id": "waxn4B2UDHyl"
      },
      "source": [
        "---"
      ]
    },
    {
      "cell_type": "markdown",
      "metadata": {
        "id": "finLQoyyGVmk"
      },
      "source": [
        "## 2\\. Excel para JSON"
      ]
    },
    {
      "cell_type": "markdown",
      "metadata": {
        "id": "99BrnqR4GVmy"
      },
      "source": [
        "Como preparação para o próximo módulo, vamos trabalhar com o JSON, um formato semi-estruturado, muito utilizado em transmissão de dados da web e equivalente a um **dicionário** Python."
      ]
    },
    {
      "cell_type": "markdown",
      "metadata": {
        "id": "AQqks_tohV8k"
      },
      "source": [
        "Utilizando o pacote Python `openpyxl` visto em aula, extraia os dados das colunas `escolaridade` e `tipo_cartao`, removendo duplicados. Com os dados, construa o dicionário Python `credito` com a seguinte estrutura:\n",
        "\n",
        "```python\n",
        "credito = {\n",
        "  'tipo_cartao': ['silver', 'blue', 'gold', 'platinum'],\n",
        "  'escolaridade': ['doutorado', 'mestrado', 'na', 'sem educacao formal', 'graduacao', 'ensino medio']\n",
        "}\n",
        "```\n",
        "\n",
        "Para finalizar, utilize o código abaixo para converter o dicionário `credito` no formato JSON:\n",
        "\n",
        "```python\n",
        "import json\n",
        "\n",
        "credito_json = json.dumps(credito, indent=4)\n",
        "print(credito_json)\n",
        "```\n",
        "\n",
        "**Dica:** Sua solução deve gerar o dicionário Python `credito` igual ao exemplo mas a ordem dos elementos pode variar tranquilamente.\n",
        "\n",
        "**Dica:** Uma excelente forma de remover elementos duplicados de uma lista é convertê-la para `set` e depois para `list` novamente.\n",
        "\n"
      ]
    },
    {
      "cell_type": "code",
      "metadata": {
        "id": "pCMQ5vBPjSXn"
      },
      "source": [
        "# solução do exercício 2\n",
        "df_credito = df[['tipo_cartao', 'escolaridade']] # seleciona as colunas \"tipo_cartao\" e \"escolaridade\" do DataFrame df, criando assim um novo DataFrame com apenas essas duas colunas.\n",
        "tipo_cartao = list(set(df_credito['tipo_cartao']))\n",
        "escolaridade = list(set(df_credito['escolaridade']))\n",
        "credito = {'escolaridade':  escolaridade, 'tipo_cartao': tipo_cartao} #definindo como um dicionário com duas chaves: \"escolaridade\" e \"tipo_cartao\"."
      ],
      "execution_count": 4,
      "outputs": []
    },
    {
      "cell_type": "code",
      "source": [
        "import json\n",
        "\n",
        "credito_json = json.dumps(credito, indent=4) # é uma função que converte um objeto Python em uma string JSON.\n",
        "                                             # (indent=4) especifica que a string JSON resultante deve ser formatada com 4 espaços de indentação para cada nível de aninhamento.\n",
        "print(credito_json) #Essa string JSON pode ser salva em um arquivo, enviada pela rede ou usada de outras maneiras."
      ],
      "metadata": {
        "colab": {
          "base_uri": "https://localhost:8080/"
        },
        "id": "YxFuTNxcOiTV",
        "outputId": "9f25fb0e-f6cc-43bf-b2b4-dd2c667327a5"
      },
      "execution_count": 5,
      "outputs": [
        {
          "output_type": "stream",
          "name": "stdout",
          "text": [
            "{\n",
            "    \"escolaridade\": [\n",
            "        \"na\",\n",
            "        \"graduacao\",\n",
            "        \"sem educacao formal\",\n",
            "        \"doutorado\",\n",
            "        \"mestrado\",\n",
            "        \"ensino medio\"\n",
            "    ],\n",
            "    \"tipo_cartao\": [\n",
            "        \"gold\",\n",
            "        \"blue\",\n",
            "        \"silver\",\n",
            "        \"platinum\"\n",
            "    ]\n",
            "}\n"
          ]
        }
      ]
    },
    {
      "cell_type": "markdown",
      "metadata": {
        "id": "As3enQc2GVm1"
      },
      "source": [
        "---"
      ]
    },
    {
      "cell_type": "markdown",
      "metadata": {
        "id": "SS1PxxfHILHs"
      },
      "source": [
        "## 3\\. BÔNUS: Texto para CSV"
      ]
    },
    {
      "cell_type": "markdown",
      "metadata": {
        "id": "i3f-X7y23onm"
      },
      "source": [
        "No arquivo de texto `ebac.txt` você encontra o texto presente no rodapé da página de cursos da EBAC ([link](https://ebaconline.com.br/)).\n",
        "\n"
      ]
    },
    {
      "cell_type": "markdown",
      "metadata": {
        "id": "nKDF9EBH3onp"
      },
      "source": [
        "**Arquivo TXT:** ebac.txt"
      ]
    },
    {
      "cell_type": "code",
      "metadata": {
        "id": "Pyyj5VNnb16w",
        "colab": {
          "base_uri": "https://localhost:8080/"
        },
        "outputId": "a08d1074-04be-4e44-d393-f0548053d755"
      },
      "source": [
        "%%writefile ebac.txt\n",
        "MÍDIAS SOCIAIS\n",
        "Instagram, Facebook, Youtube, LinkedIn\n",
        "\n",
        "CURSOS\n",
        "Software, Design, Marketing, Audiovisual, Programação & Data, Games\n",
        "\n",
        "WEBINARS\n",
        "Próximos, Anteriores\n",
        "\n",
        "SOBRE\n",
        "Sobre nós, Centro de carreiras, Vagas\n",
        "\n",
        "CONTATO\n",
        "WhatsApp +55 (11) 4200-2991\n",
        "Telefone +55 (11) 3030-3200\n",
        "\n",
        "BLOG\n",
        "Design, Audiovisual, Marketing"
      ],
      "execution_count": 6,
      "outputs": [
        {
          "output_type": "stream",
          "name": "stdout",
          "text": [
            "Writing ebac.txt\n"
          ]
        }
      ]
    },
    {
      "cell_type": "markdown",
      "metadata": {
        "id": "R4hMJ6D2ILH3"
      },
      "source": [
        "Extraia os números de contato do arquivo texto `ebac.txt` e salve-os no arquivo csv `contato_ebac.csv` com o separador `;` no seguinte formato:\n",
        "\n",
        "```\n",
        "tipo;numero\n",
        "whatsapp;+551142002991\n",
        "telefone;+551130303200\n",
        "```\n",
        "\n",
        "**Nota:** Escreva o código da sua solução abaixo em uma ou mais células, você não precisa enviar o arquivo csv gerado."
      ]
    },
    {
      "cell_type": "code",
      "source": [
        "import re"
      ],
      "metadata": {
        "id": "WXQOHlLXPHsQ"
      },
      "execution_count": 7,
      "outputs": []
    },
    {
      "cell_type": "code",
      "metadata": {
        "id": "ogZClDvTILH3",
        "colab": {
          "base_uri": "https://localhost:8080/"
        },
        "outputId": "2f1a571b-8df0-41f7-bbe9-d4118dfe5718"
      },
      "source": [
        "# solução do exercício 3 (bônus)\n",
        "with open(file='./ebac.txt', mode='r', encoding='utf8') as arquivo:\n",
        "  linhas = arquivo.readlines()\n",
        "  linhas = filter(lambda linha: linha != '\\n', linhas)\n",
        "  linhas = map(lambda linha: linha.lower().strip(), linhas)\n",
        "  linhas = list(linhas)\n",
        "print(linhas)"
      ],
      "execution_count": 8,
      "outputs": [
        {
          "output_type": "stream",
          "name": "stdout",
          "text": [
            "['mídias sociais', 'instagram, facebook, youtube, linkedin', 'cursos', 'software, design, marketing, audiovisual, programação & data, games', 'webinars', 'próximos, anteriores', 'sobre', 'sobre nós, centro de carreiras, vagas', 'contato', 'whatsapp +55 (11) 4200-2991', 'telefone +55 (11) 3030-3200', 'blog', 'design, audiovisual, marketing']\n"
          ]
        }
      ]
    },
    {
      "cell_type": "code",
      "source": [
        "linhas_contatos = filter(lambda linha: '+55' in linha, linhas)\n",
        "linhas_contatos = list(linhas_contatos)\n",
        "print(linhas_contatos)"
      ],
      "metadata": {
        "colab": {
          "base_uri": "https://localhost:8080/"
        },
        "id": "15uhbIvBQs12",
        "outputId": "8e4e8f9d-2751-4fc7-c405-96025bef0d52"
      },
      "execution_count": 9,
      "outputs": [
        {
          "output_type": "stream",
          "name": "stdout",
          "text": [
            "['whatsapp +55 (11) 4200-2991', 'telefone +55 (11) 3030-3200']\n"
          ]
        }
      ]
    },
    {
      "cell_type": "markdown",
      "metadata": {
        "id": "Fx--J2bOILH4"
      },
      "source": [
        "---"
      ]
    }
  ]
}