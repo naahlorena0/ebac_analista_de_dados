{
  "nbformat": 4,
  "nbformat_minor": 0,
  "metadata": {
    "colab": {
      "provenance": [],
      "toc_visible": true
    },
    "kernelspec": {
      "name": "python3",
      "display_name": "Python 3"
    }
  },
  "cells": [
    {
      "cell_type": "markdown",
      "metadata": {
        "id": "GABI6OW8OfQ2"
      },
      "source": [
        "# **Exercícios**"
      ]
    },
    {
      "cell_type": "markdown",
      "metadata": {
        "id": "muD1vxozykSC"
      },
      "source": [
        "## 1\\. Google Colab"
      ]
    },
    {
      "cell_type": "markdown",
      "metadata": {
        "id": "ahrFfCuBxJKs"
      },
      "source": [
        "Crie uma célula de código que escreva o texto \"Olá mundo!\", utilize o comando `print`."
      ]
    },
    {
      "cell_type": "code",
      "source": [
        "print(\"Olá mundo!\")"
      ],
      "metadata": {
        "colab": {
          "base_uri": "https://localhost:8080/"
        },
        "id": "3lud-XrxUQ8l",
        "outputId": "8a4ae341-2bdc-478e-9614-4722ea4387a6"
      },
      "execution_count": null,
      "outputs": [
        {
          "output_type": "stream",
          "name": "stdout",
          "text": [
            "Olá mundo!\n"
          ]
        }
      ]
    },
    {
      "cell_type": "markdown",
      "metadata": {
        "id": "KI9zQRT2xa7m"
      },
      "source": [
        "Crie uma célua de texto e adicione uma imagem."
      ]
    },
    {
      "cell_type": "markdown",
      "source": [
        "![fc4e1fd950a7abe5dbd32f5034ff0c7d.jpg](data:image/jpeg;base64,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)"
      ],
      "metadata": {
        "id": "XeakpvGMxqNd"
      }
    },
    {
      "cell_type": "markdown",
      "metadata": {
        "id": "tFYOPLS3xiwe"
      },
      "source": [
        "## 2\\. Números"
      ]
    },
    {
      "cell_type": "markdown",
      "metadata": {
        "id": "O2G9gt7tx2c-"
      },
      "source": [
        "Preencha as células de código para preencher os valores de (A), (B) e (C) na tabela de ticket médio abaixo:\n",
        "\n",
        "<br>\n",
        "\n",
        "| Dia   | Valor Total Vendas | Qtd Total Vendas | Ticket Medio |\n",
        "|-------|--------------------|------------------|--------------|\n",
        "| 19/01 | (A)                | 3                | 320.52       |\n",
        "| 20/01 | 834.47             | (B)              | 119.21       |\n",
        "| 23/01 | 15378.12           | 5                | (C)          |"
      ]
    },
    {
      "cell_type": "code",
      "metadata": {
        "id": "nsrKH9EizNRD",
        "colab": {
          "base_uri": "https://localhost:8080/"
        },
        "outputId": "eea6e81e-4892-4001-cd5c-3134393c5bc9"
      },
      "source": [
        "# [A]\n",
        "qtd_total_vendas_19 = 3\n",
        "tkt_a_19 = 320.52\n",
        "\n",
        "valor_total_vendas_19 = qtd_total_vendas_19 * tkt_a_19\n",
        "print(valor_total_vendas_19)\n",
        "print(type(valor_total_vendas_19))"
      ],
      "execution_count": null,
      "outputs": [
        {
          "output_type": "stream",
          "name": "stdout",
          "text": [
            "961.56\n",
            "<class 'float'>\n"
          ]
        }
      ]
    },
    {
      "cell_type": "code",
      "metadata": {
        "id": "QQ1GBGHJzMmi",
        "colab": {
          "base_uri": "https://localhost:8080/"
        },
        "outputId": "05a072de-dfc7-4013-bc0a-bdac48d6d5c3"
      },
      "source": [
        "# [B]\n",
        "\n",
        "valor_total_vendas_20 = 834.47\n",
        "tkt_b_20 = 119.21\n",
        "\n",
        "qtd_valor_total_20 = valor_total_vendas_20 // tkt_b_20\n",
        "print(qtd_valor_total_20)\n",
        "print(type(qtd_valor_total_20))"
      ],
      "execution_count": null,
      "outputs": [
        {
          "output_type": "stream",
          "name": "stdout",
          "text": [
            "7.0\n",
            "<class 'float'>\n"
          ]
        }
      ]
    },
    {
      "cell_type": "code",
      "metadata": {
        "id": "W-li0nSMzKNa",
        "colab": {
          "base_uri": "https://localhost:8080/"
        },
        "outputId": "e0e47032-9a38-45b1-ee49-b1b26d44b4cb"
      },
      "source": [
        "# [C]\n",
        "\n",
        "valor_total_vendas_23 = 15378.12\n",
        "qtd_total_vendas_23 = 5\n",
        "\n",
        "tkt_c_23 = valor_total_vendas / qtd_total_vendas\n",
        "print(tkt_c_23)\n",
        "print(type(tkt_c_23))"
      ],
      "execution_count": null,
      "outputs": [
        {
          "output_type": "stream",
          "name": "stdout",
          "text": [
            "3075.6240000000003\n",
            "<class 'float'>\n"
          ]
        }
      ]
    },
    {
      "cell_type": "markdown",
      "metadata": {
        "id": "3eoP-Vj9yzh8"
      },
      "source": [
        "---"
      ]
    },
    {
      "cell_type": "markdown",
      "metadata": {
        "id": "yUJ6kdony6Pr"
      },
      "source": [
        "## 3\\. Strings"
      ]
    },
    {
      "cell_type": "markdown",
      "metadata": {
        "id": "KDuZpg-5zCvO"
      },
      "source": [
        "Aplique três métodos distintos na *string* abaixo, você pode conferir alguns métodos neste [link](https://www.w3schools.com/python/python_ref_string.asp):"
      ]
    },
    {
      "cell_type": "code",
      "metadata": {
        "id": "k9zbyf7BzjKj",
        "colab": {
          "base_uri": "https://localhost:8080/"
        },
        "outputId": "1ee574ce-2492-4598-d0f2-d01f84f1f4d5"
      },
      "source": [
        "cancao =  'roda mundo, roda gigante, roda moinho, roda pião.'\n",
        "\n",
        "print(cancao.replace('roda', 'quadrado'))\n"
      ],
      "execution_count": null,
      "outputs": [
        {
          "output_type": "stream",
          "name": "stdout",
          "text": [
            "quadrado mundo, quadrado gigante, quadrado moinho, quadrado pião.\n"
          ]
        }
      ]
    },
    {
      "cell_type": "code",
      "source": [
        "print(cancao.split())"
      ],
      "metadata": {
        "colab": {
          "base_uri": "https://localhost:8080/"
        },
        "id": "q8YEYnaumkbQ",
        "outputId": "04e888c0-5307-446e-e9d2-751a13ffe794"
      },
      "execution_count": null,
      "outputs": [
        {
          "output_type": "stream",
          "name": "stdout",
          "text": [
            "['roda', 'mundo,', 'roda', 'gigante,', 'roda', 'moinho,', 'roda', 'pião.']\n"
          ]
        }
      ]
    },
    {
      "cell_type": "code",
      "source": [
        "print(cancao.upper())"
      ],
      "metadata": {
        "colab": {
          "base_uri": "https://localhost:8080/"
        },
        "id": "n2UnPOsUmZcD",
        "outputId": "86fee812-a971-4b3f-f5c4-9c45d4def35c"
      },
      "execution_count": null,
      "outputs": [
        {
          "output_type": "stream",
          "name": "stdout",
          "text": [
            "RODA MUNDO, RODA GIGANTE, RODA MOINHO, RODA PIÃO.\n"
          ]
        }
      ]
    },
    {
      "cell_type": "markdown",
      "metadata": {
        "id": "guZMHXVq0FnC"
      },
      "source": [
        "_______________________________________________________________\n",
        "\n",
        "\n",
        "\n",
        "Extraia da string abaixo o valor da taxa **selic** na variável `selic` e o valor do **ano** na variavel `ano`. Imprima os valores na tela."
      ]
    },
    {
      "cell_type": "code",
      "metadata": {
        "id": "cbx_P4IQ0agK",
        "colab": {
          "base_uri": "https://localhost:8080/"
        },
        "outputId": "925b695b-1ce0-4e63-91dc-e4091ad5ffcd"
      },
      "source": [
        "noticia = 'Selic vai a 2,75% e supera expectativas; é a primeira alta em 6 anos.'\n",
        "\n",
        "selic = '2,75'\n",
        "ano = '6'\n",
        "print(selic)\n",
        "print(ano)\n",
        "\n"
      ],
      "execution_count": null,
      "outputs": [
        {
          "output_type": "stream",
          "name": "stdout",
          "text": [
            "2,75\n",
            "6\n"
          ]
        }
      ]
    },
    {
      "cell_type": "markdown",
      "metadata": {
        "id": "wWzbu-OC0z3L"
      },
      "source": [
        "---"
      ]
    },
    {
      "cell_type": "markdown",
      "metadata": {
        "id": "no8w_Ati01xP"
      },
      "source": [
        "## 4\\. Booleanos"
      ]
    },
    {
      "cell_type": "markdown",
      "metadata": {
        "id": "D_0tC3SC099N"
      },
      "source": [
        "Utilize a tabela da verdade para responder: qual o valor da variável x?"
      ]
    },
    {
      "cell_type": "code",
      "metadata": {
        "id": "XwIEbxf91SpU",
        "colab": {
          "base_uri": "https://localhost:8080/"
        },
        "outputId": "2d200fd9-265e-41e9-daaf-c9daabc5ef2e"
      },
      "source": [
        "a = False\n",
        "b = True\n",
        "\n",
        "x = not a & b\n",
        "print(x)"
      ],
      "execution_count": null,
      "outputs": [
        {
          "output_type": "stream",
          "name": "stdout",
          "text": [
            "True\n"
          ]
        }
      ]
    }
  ]
}