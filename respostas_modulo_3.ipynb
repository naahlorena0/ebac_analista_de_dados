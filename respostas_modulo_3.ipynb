{
  "cells": [
    {
      "cell_type": "markdown",
      "metadata": {
        "id": "GABI6OW8OfQ2"
      },
      "source": [
        "# **Exercícios**"
      ]
    },
    {
      "cell_type": "markdown",
      "metadata": {
        "id": "VaApFAovnviV"
      },
      "source": [
        "## 1\\. Estrutura condicional for / in"
      ]
    },
    {
      "cell_type": "markdown",
      "metadata": {
        "id": "-wxUvZC9nviZ"
      },
      "source": [
        "Na lista `propaganda_online` abaixo, estão presente os dados de usuários que acessaram um determinado site e se o mesmo clicou em uma propaganda."
      ]
    },
    {
      "cell_type": "code",
      "execution_count": 1,
      "metadata": {
        "id": "PG1CXINunvib"
      },
      "outputs": [],
      "source": [
        "propaganda_online = [\n",
        "  {'tempo_gasto_site': 68.95, 'idade': 35, 'renda_area': 61833.90, 'tempo_gasto_internet': 256.09, 'cidade': 'Wrightburgh', 'pais': 'Tunisia', 'clicou_no_ad': 0},\n",
        "  {'tempo_gasto_site': 80.23, 'idade': 31, 'renda_area': 68441.85, 'tempo_gasto_internet': 193.77, 'cidade': 'West Jodi', 'pais': 'Nauru', 'clicou_no_ad': 0},\n",
        "  {'tempo_gasto_site': 69.47, 'idade': 26, 'renda_area': 59785.94, 'tempo_gasto_internet': 236.50, 'cidade': 'Davidton', 'pais': 'San Marino', 'clicou_no_ad': 0},\n",
        "  {'tempo_gasto_site': 68.37, 'idade': 35, 'renda_area': 73889.99, 'tempo_gasto_internet': 225.58, 'cidade': 'South Manuel', 'pais': 'Iceland', 'clicou_no_ad': 0},\n",
        "  {'tempo_gasto_site': 88.91, 'idade': 33, 'renda_area': 53852.85, 'tempo_gasto_internet': 208.36, 'cidade': 'Brandonstad', 'pais': 'Myanmar', 'clicou_no_ad': 0},\n",
        "  {'tempo_gasto_site': None, 'idade': 48, 'renda_area': 24593.33, 'tempo_gasto_internet': 131.76, 'cidade': 'Port Jefferybury', 'pais': 'Australia', 'clicou_no_ad': 1},\n",
        "  {'tempo_gasto_site': 74.53, 'idade': 30, 'renda_area': 68862.00, 'tempo_gasto_internet': 221.51, 'cidade': 'West Colin', 'pais': 'Grenada'},\n",
        "  {'tempo_gasto_site': 69.88, 'idade': 20, 'renda_area': 55642.32, 'tempo_gasto_internet': 183.82, 'cidade': 'Ramirezton', 'pais': 'Ghana', 'clicou_no_ad': 0}\n",
        "]"
      ]
    },
    {
      "cell_type": "code",
      "execution_count": 2,
      "metadata": {
        "id": "cyMWqs_t8pWA",
        "colab": {
          "base_uri": "https://localhost:8080/"
        },
        "outputId": "c3e56816-edc0-4778-eefb-bb20c80ff194"
      },
      "outputs": [
        {
          "output_type": "stream",
          "name": "stdout",
          "text": [
            "{'tempo_gasto_site': 68.95, 'idade': 35, 'renda_area': 61833.9, 'tempo_gasto_internet': 256.09, 'cidade': 'Wrightburgh', 'pais': 'Tunisia', 'clicou_no_ad': 0}\n",
            "{'tempo_gasto_site': 80.23, 'idade': 31, 'renda_area': 68441.85, 'tempo_gasto_internet': 193.77, 'cidade': 'West Jodi', 'pais': 'Nauru', 'clicou_no_ad': 0}\n",
            "{'tempo_gasto_site': 69.47, 'idade': 26, 'renda_area': 59785.94, 'tempo_gasto_internet': 236.5, 'cidade': 'Davidton', 'pais': 'San Marino', 'clicou_no_ad': 0}\n",
            "{'tempo_gasto_site': 68.37, 'idade': 35, 'renda_area': 73889.99, 'tempo_gasto_internet': 225.58, 'cidade': 'South Manuel', 'pais': 'Iceland', 'clicou_no_ad': 0}\n",
            "{'tempo_gasto_site': 88.91, 'idade': 33, 'renda_area': 53852.85, 'tempo_gasto_internet': 208.36, 'cidade': 'Brandonstad', 'pais': 'Myanmar', 'clicou_no_ad': 0}\n",
            "{'tempo_gasto_site': None, 'idade': 48, 'renda_area': 24593.33, 'tempo_gasto_internet': 131.76, 'cidade': 'Port Jefferybury', 'pais': 'Australia', 'clicou_no_ad': 1}\n",
            "{'tempo_gasto_site': 74.53, 'idade': 30, 'renda_area': 68862.0, 'tempo_gasto_internet': 221.51, 'cidade': 'West Colin', 'pais': 'Grenada'}\n",
            "{'tempo_gasto_site': 69.88, 'idade': 20, 'renda_area': 55642.32, 'tempo_gasto_internet': 183.82, 'cidade': 'Ramirezton', 'pais': 'Ghana', 'clicou_no_ad': 0}\n"
          ]
        }
      ],
      "source": [
        "for dado_de_usuario in propaganda_online:\n",
        "  print(dado_de_usuario)"
      ]
    },
    {
      "cell_type": "markdown",
      "metadata": {
        "id": "_rbvVxDxnvih"
      },
      "source": [
        "1.1. Imprime os seguintes valores da lista:\n",
        "`tempo_gasto_site` e `idade`\n",
        "\n",
        "Dica: Utilize os conceitos de chave e valor de elementos de uma lista para selecionar os valores de uma chave (lista[chave]), conforme exemplo abaixo, na qual imprime somente os dados da chave `cidade`:"
      ]
    },
    {
      "cell_type": "code",
      "execution_count": 3,
      "metadata": {
        "colab": {
          "base_uri": "https://localhost:8080/"
        },
        "id": "IuCkSwIynvii",
        "outputId": "68cda7de-fc3a-453d-aee8-83469b1189d9"
      },
      "outputs": [
        {
          "output_type": "stream",
          "name": "stdout",
          "text": [
            "Wrightburgh\n",
            "West Jodi\n",
            "Davidton\n",
            "South Manuel\n",
            "Brandonstad\n",
            "Port Jefferybury\n",
            "West Colin\n",
            "Ramirezton\n"
          ]
        }
      ],
      "source": [
        "for dado_de_usuario in propaganda_online:\n",
        "    print(dado_de_usuario['cidade'])"
      ]
    },
    {
      "cell_type": "markdown",
      "metadata": {
        "id": "vt35FVJbnvij"
      },
      "source": [
        "Extrair os valores da chave tempo_gasto_site"
      ]
    },
    {
      "cell_type": "code",
      "execution_count": 4,
      "metadata": {
        "colab": {
          "base_uri": "https://localhost:8080/"
        },
        "id": "OYZKbuTonvik",
        "outputId": "309e84c3-f11a-4aa0-a5af-f0d04db379df"
      },
      "outputs": [
        {
          "output_type": "stream",
          "name": "stdout",
          "text": [
            "68.95\n",
            "80.23\n",
            "69.47\n",
            "68.37\n",
            "88.91\n",
            "None\n",
            "74.53\n",
            "69.88\n"
          ]
        }
      ],
      "source": [
        "for dado_de_usuario in propaganda_online:\n",
        "    print(dado_de_usuario['tempo_gasto_site'])"
      ]
    },
    {
      "cell_type": "markdown",
      "metadata": {
        "id": "NJqWxP9Qnvik"
      },
      "source": [
        "Extrair os valores da chave idade"
      ]
    },
    {
      "cell_type": "code",
      "execution_count": 5,
      "metadata": {
        "colab": {
          "base_uri": "https://localhost:8080/"
        },
        "id": "DGaz4IIYnvil",
        "outputId": "e1f9ad2d-bfcc-447f-a936-2f6b099600fa"
      },
      "outputs": [
        {
          "output_type": "stream",
          "name": "stdout",
          "text": [
            "35\n",
            "31\n",
            "26\n",
            "35\n",
            "33\n",
            "48\n",
            "30\n",
            "20\n"
          ]
        }
      ],
      "source": [
        "for dado_de_usuario in propaganda_online:\n",
        "    print(dado_de_usuario['idade'])"
      ]
    },
    {
      "cell_type": "markdown",
      "metadata": {
        "id": "sywbLo6Vnvil"
      },
      "source": [
        "## 2\\. Estrutura condicional if / else"
      ]
    },
    {
      "cell_type": "markdown",
      "metadata": {
        "id": "06g9SD4Xnvim"
      },
      "source": [
        "2.1. Utilize a estrutura if/else para imprimir a cidade dos usuários que gastaram mais de 100 horas de tempo na internet\n",
        "\n",
        "Dica: Após a iteração dos elementos da lista (Através da estrutura condicional FOR),  utilize a estrutura if/else para criar a condição dos valores da chave `tempo_gasto_internet`"
      ]
    },
    {
      "cell_type": "code",
      "source": [
        "for dado_de_usuario in propaganda_online: \n",
        "\n",
        "    if dado_de_usuario['tempo_gasto_internet']>100: \n",
        "       print(dado_de_usuario['cidade']) \n",
        "    else: \n",
        "      print('Usuario não passou mais de 100 horas de tempo da internet') "
      ],
      "metadata": {
        "colab": {
          "base_uri": "https://localhost:8080/"
        },
        "id": "enlbw6OtbIQi",
        "outputId": "c3c7bd85-5e3b-480b-88b4-f27edcd6eb90"
      },
      "execution_count": 15,
      "outputs": [
        {
          "output_type": "stream",
          "name": "stdout",
          "text": [
            "Wrightburgh\n",
            "West Jodi\n",
            "Davidton\n",
            "South Manuel\n",
            "Brandonstad\n",
            "Port Jefferybury\n",
            "West Colin\n",
            "Ramirezton\n"
          ]
        }
      ]
    },
    {
      "cell_type": "markdown",
      "metadata": {
        "id": "qIsIC00mnvio"
      },
      "source": [
        "## 3\\. Estrutura condicional try / except"
      ]
    },
    {
      "cell_type": "markdown",
      "metadata": {
        "id": "mSk8Fr86nvio"
      },
      "source": [
        "3.1. Utilize a estrutura try/except para imprimir as cidades dos usuários que passaram mais de 70 segundos no site. \n",
        "\n",
        "Dica: Realize o tratamento de exceções dentro da execução da iteração dos elementos da lista"
      ]
    },
    {
      "cell_type": "code",
      "execution_count": 7,
      "metadata": {
        "colab": {
          "base_uri": "https://localhost:8080/"
        },
        "id": "BDk4O8Ufnvip",
        "outputId": "38a20950-840a-4518-82ec-c268c7136531"
      },
      "outputs": [
        {
          "output_type": "stream",
          "name": "stdout",
          "text": [
            "Erro para a cidade de Port Jefferybury, esperava-se um valor númerico\n",
            "<class 'Exception'>\n",
            "['West Jodi', 'Brandonstad', 'West Colin']\n"
          ]
        }
      ],
      "source": [
        "cidades = []\n",
        "for dado_de_usuario in propaganda_online:\n",
        "    try:\n",
        "      if(dado_de_usuario[\"tempo_gasto_site\"]) > 70:\n",
        "         cidades.append(dado_de_usuario[\"cidade\"])\n",
        "    except Exception:\n",
        "     print(\"Erro para a cidade de Port Jefferybury, esperava-se um valor númerico\")\n",
        "     print(Exception)\n",
        "print(cidades)             "
      ]
    },
    {
      "cell_type": "markdown",
      "metadata": {
        "id": "57WQm98onvip"
      },
      "source": [
        "# Exercício bônus"
      ]
    },
    {
      "cell_type": "markdown",
      "metadata": {
        "id": "muD1vxozykSC"
      },
      "source": [
        "## 1\\. Dados de interação de usuários com propagandas online"
      ]
    },
    {
      "cell_type": "markdown",
      "metadata": {
        "id": "KI9zQRT2xa7m"
      },
      "source": [
        "1.1. Crie uma lista chamada `paises` com o pais dos usuários com mais de 30 anos. \n",
        "\n",
        "Dica: Para armazenar os países dos usuários na lista `paises` utilize o método append()."
      ]
    },
    {
      "cell_type": "code",
      "execution_count": 8,
      "metadata": {
        "id": "fvYOUhoN-dxd",
        "colab": {
          "base_uri": "https://localhost:8080/"
        },
        "outputId": "66030b86-a37e-4008-a02b-2946bcb71e4b"
      },
      "outputs": [
        {
          "output_type": "stream",
          "name": "stdout",
          "text": [
            "['Tunisia', 'Nauru', 'Iceland', 'Myanmar', 'Australia']\n"
          ]
        }
      ],
      "source": [
        "paises = []\n",
        "for dado_de_usuario in propaganda_online:\n",
        "\n",
        "  if (dado_de_usuario[\"idade\"])>30:\n",
        "    paises.append(dado_de_usuario[\"pais\"])\n",
        "\n",
        "print(paises)"
      ]
    },
    {
      "cell_type": "markdown",
      "metadata": {
        "id": "zMN1Q3jdwoJm"
      },
      "source": [
        "---"
      ]
    },
    {
      "cell_type": "markdown",
      "metadata": {
        "id": "LU_VIEdD_PrZ"
      },
      "source": [
        "1.2. Crie uma lista chamada `leads` com a renda dos usuários que clicaram na propaganda. \n",
        "\n",
        "Dica: Para armazenar a renda dos usuários na lista `leads` utilize o método append()."
      ]
    },
    {
      "cell_type": "code",
      "execution_count": 9,
      "metadata": {
        "id": "3mTbsme4_Pr0",
        "colab": {
          "base_uri": "https://localhost:8080/"
        },
        "outputId": "0b4ca3b4-6c6e-44b4-89a2-684bb6fedbf5"
      },
      "outputs": [
        {
          "output_type": "stream",
          "name": "stdout",
          "text": [
            "Erro: A cidade de Port Jeffyrybury de West Colin não indica seu índice de acesso a propaganda.\n",
            "[]\n"
          ]
        }
      ],
      "source": [
        "leads = []\n",
        "try:\n",
        "  for dado_de_usuario in propaganda_online:\n",
        "    if (dado_de_usuario[\"cliclou_no_ad\"])> 0:\n",
        "      leads.append(dado_de_usuario[\"renda_area\"])\n",
        "except KeyError: \n",
        "  print(\"Erro: A cidade de Port Jeffyrybury de West Colin não indica seu índice de acesso a propaganda.\")\n",
        "  print(leads)"
      ]
    },
    {
      "cell_type": "code",
      "source": [
        "leads = []\n",
        "for dado_de_usuario in propaganda_online:\n",
        "  try:\n",
        "    if (dado_de_usuario[\"cliclou_no_ad\"])> 0:\n",
        "      leads.append(dado_de_usuario[\"renda_area\"])\n",
        "  except KeyError: \n",
        "   print(\"Erro: A cidade de Port Jeffyrybury de West Colin não indica seu índice de acesso a propaganda.\")\n",
        "   print(leads)"
      ],
      "metadata": {
        "colab": {
          "base_uri": "https://localhost:8080/"
        },
        "id": "NWUbjPv-UhXh",
        "outputId": "14b6ecdf-11e5-437c-f839-3458755772fc"
      },
      "execution_count": 10,
      "outputs": [
        {
          "output_type": "stream",
          "name": "stdout",
          "text": [
            "Erro: A cidade de Port Jeffyrybury de West Colin não indica seu índice de acesso a propaganda.\n",
            "[]\n",
            "Erro: A cidade de Port Jeffyrybury de West Colin não indica seu índice de acesso a propaganda.\n",
            "[]\n",
            "Erro: A cidade de Port Jeffyrybury de West Colin não indica seu índice de acesso a propaganda.\n",
            "[]\n",
            "Erro: A cidade de Port Jeffyrybury de West Colin não indica seu índice de acesso a propaganda.\n",
            "[]\n",
            "Erro: A cidade de Port Jeffyrybury de West Colin não indica seu índice de acesso a propaganda.\n",
            "[]\n",
            "Erro: A cidade de Port Jeffyrybury de West Colin não indica seu índice de acesso a propaganda.\n",
            "[]\n",
            "Erro: A cidade de Port Jeffyrybury de West Colin não indica seu índice de acesso a propaganda.\n",
            "[]\n",
            "Erro: A cidade de Port Jeffyrybury de West Colin não indica seu índice de acesso a propaganda.\n",
            "[]\n"
          ]
        }
      ]
    },
    {
      "cell_type": "markdown",
      "metadata": {
        "id": "4_L-WULHAesN"
      },
      "source": [
        "---"
      ]
    }
  ],
  "metadata": {
    "colab": {
      "provenance": [],
      "toc_visible": true
    },
    "kernelspec": {
      "display_name": "Python 3 (ipykernel)",
      "language": "python",
      "name": "python3"
    },
    "language_info": {
      "codemirror_mode": {
        "name": "ipython",
        "version": 3
      },
      "file_extension": ".py",
      "mimetype": "text/x-python",
      "name": "python",
      "nbconvert_exporter": "python",
      "pygments_lexer": "ipython3",
      "version": "3.9.7"
    }
  },
  "nbformat": 4,
  "nbformat_minor": 0
}